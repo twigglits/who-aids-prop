{
 "cells": [
  {
   "cell_type": "code",
   "execution_count": 3,
   "id": "38c6da1c-d41e-4567-85fa-2992fa15c0c2",
   "metadata": {
    "tags": []
   },
   "outputs": [],
   "source": [
    "import pysimpactcyan\n",
    "import sys"
   ]
  },
  {
   "cell_type": "code",
   "execution_count": 5,
   "id": "8f247e8b-0a6e-4913-afc3-37ae606f6231",
   "metadata": {
    "tags": []
   },
   "outputs": [
    {
     "name": "stdout",
     "output_type": "stream",
     "text": [
      "Warning: can't seem to find the simpact data directory\n",
      "Using identifier 'simpact-cyan-2024-06-20-20-26-01_2532_NSESZ1UF-'\n",
      "Results will be stored in directory '/home/jupyter/who-aids-prop/build/python/output'\n",
      "Running simpact executable 'simpact-cyan-release' ...\n"
     ]
    },
    {
     "name": "stderr",
     "output_type": "stream",
     "text": [
      "IOPub data rate exceeded.\n",
      "The Jupyter server will temporarily stop sending output\n",
      "to the client in order to avoid crashing it.\n",
      "To change this limit, set the config variable\n",
      "`--ServerApp.iopub_data_rate_limit`.\n",
      "\n",
      "Current values:\n",
      "ServerApp.iopub_data_rate_limit=1000000.0 (bytes/sec)\n",
      "ServerApp.rate_limit_window=3.0 (secs)\n",
      "\n"
     ]
    }
   ],
   "source": [
    "simpact = pysimpactcyan.PySimpactCyan()\n",
    "\n",
    "cfg = {}\n",
    "cfg = { \"population.nummen\": 500,\n",
    "        \"population.numwomen\": 500,\n",
    "        \"population.simtime\": 50,\n",
    "        \"population.agedistfile\": \"/home/jupyter/who-aids-prop/build/python/eswatini_2023.csv\",\n",
    "        \"periodiclogging.interval\": 1,\n",
    "        \"periodiclogging.starttime\": 0,\n",
    "        # vmmc\n",
    "        \"EventVMMC.enabled\": \"false\",\n",
    "        \"EventVMMC.m_vmmcprobDist.dist.type\": \"uniform\",\n",
    "        \"EventVMMC.m_vmmcprobDist.dist.uniform.max\": 1,\n",
    "        \"EventVMMC.m_vmmcprobDist.dist.uniform.min\": 0,\n",
    "        \"EventVMMC.m_vmmcscheduleDist.dist.type\": \"discrete.csv.twocol\",\n",
    "        \"EventVMMC.m_vmmcscheduleDist.dist.discrete.csv.twocol.file\": \"/home/jupyter/who-aids-prop/build/python/vmmc_schedule_twocol_1.csv\",\n",
    "        # condom programming\n",
    "        \"EventCondom.enabled\" : \"true\",\n",
    "        \"EventCondom.m_condomprobDist.dist.type\": \"uniform\",\n",
    "        \"EventCondom.m_condomprobDist.dist.uniform.min\": 0,\n",
    "        \"EventCondom.m_condomprobDist.dist.uniform.max\": 1,\n",
    "        \"EventCondom.threshold\": 0.01, # threshold for condom preference for an individual \n",
    "        \"hivtransmission.threshold\": 0.5, # threshold for condom use in formation\n",
    "        \"hivtransmission.m_condomformationdist.dist.type\":\"discrete.csv.twocol\",\n",
    "        \"hivtransmission.m_condomformationdist.dist.discrete.csv.twocol.file\":  \"/home/jupyter/who-aids-prop/build/python/relationship_condom_use_1.csv\",\n",
    "        \"hivtransmission.m_condomformationdist.dist.discrete.csv.twocol.floor\": 'yes', #to force distirbution to return exact values and not any value within the bin\n",
    "        \"hivtransmission.threshold\": 0.5 # threshold for condom use in formation\n",
    "      }\n",
    "\n",
    "res = simpact.run(cfg, \"output\", dataFiles=data)"
   ]
  },
  {
   "cell_type": "code",
   "execution_count": null,
   "id": "2e08d209",
   "metadata": {},
   "outputs": [],
   "source": []
  },
  {
   "cell_type": "code",
   "execution_count": null,
   "id": "c3dc6270-39ae-4cd5-b62a-553d80008c2b",
   "metadata": {},
   "outputs": [],
   "source": []
  }
 ],
 "metadata": {
  "environment": {
   "kernel": "python3",
   "name": "common-cpu.m119",
   "type": "gcloud",
   "uri": "us-docker.pkg.dev/deeplearning-platform-release/gcr.io/base-cpu:m119"
  },
  "kernelspec": {
   "display_name": "Python 3",
   "language": "python",
   "name": "python3"
  },
  "language_info": {
   "codemirror_mode": {
    "name": "ipython",
    "version": 3
   },
   "file_extension": ".py",
   "mimetype": "text/x-python",
   "name": "python",
   "nbconvert_exporter": "python",
   "pygments_lexer": "ipython3",
   "version": "3.10.14"
  }
 },
 "nbformat": 4,
 "nbformat_minor": 5
}
