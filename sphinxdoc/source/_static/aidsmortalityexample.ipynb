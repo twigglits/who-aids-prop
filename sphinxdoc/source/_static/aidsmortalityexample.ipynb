{
 "cells": [
  {
   "cell_type": "markdown",
   "id": "6d84bd39",
   "metadata": {},
   "source": [
    "AIDS Mortality example\n",
    "======================\n",
    "This notebook illustrates an example present in the Simpact Cyan documentation.\n",
    "There, it is explained that upon infection with HIV the survival time is calculated\n",
    "as\n",
    "$$ t_{\\rm survival} = \\frac{C}{V_{\\rm sp}^{-k}} $$\n",
    "Because of the start of antiretroviral treatment, or because of dropping out of\n",
    "treatment, the set-point viral load $V_{\\rm sp}$\n",
    "of a person can go down or up again, and the simulations below show what happens\n",
    "to the AIDS based time of death.\n",
    "\n",
    "This is a very artificial example, meant to illustrate the reasoning in the\n",
    "[reference documentation](http://research.edm.uhasselt.be/~jori/simpact/current/simpact_cyan.html#aidsmortality)"
   ]
  },
  {
   "cell_type": "code",
   "execution_count": 1,
   "id": "32ae3234-06fc-4e79-a856-7980189cf82c",
   "metadata": {},
   "outputs": [],
   "source": [
    "import os\n",
    "\n",
    "os.environ['PYTHONPATH'] = '/home/_delicht/src/who-aids-prop/python'\n",
    "os.environ['SIMPACT_DATA_DIR'] = '/home/_delicht/src/who-aids-prop/data/'\n",
    "os.environ['PATH'] = f'${os.environ[\"PATH\"]}:/home/_delicht/src/who-aids-prop/build'"
   ]
  },
  {
   "cell_type": "code",
   "execution_count": 2,
   "id": "5f9860f2-b1df-4692-8f07-fc771ff53343",
   "metadata": {},
   "outputs": [],
   "source": [
    "import sys\n",
    "\n",
    "sys.path.append(\"../../../python/\")"
   ]
  },
  {
   "cell_type": "code",
   "execution_count": 3,
   "id": "eceaa934",
   "metadata": {
    "collapsed": false,
    "jupyter": {
     "outputs_hidden": false
    }
   },
   "outputs": [],
   "source": [
    "# First, we'll load the Python interface to Simpact Cyan, as well as the 'math' library\n",
    "import pysimpactcyan\n",
    "import math"
   ]
  },
  {
   "cell_type": "code",
   "execution_count": 4,
   "id": "a33a4a83",
   "metadata": {
    "collapsed": false,
    "jupyter": {
     "outputs_hidden": false
    }
   },
   "outputs": [
    {
     "name": "stdout",
     "output_type": "stream",
     "text": [
      "Setting data directory to /home/_delicht/src/who-aids-prop/data/\n"
     ]
    }
   ],
   "source": [
    "# Create an instance of the PySimpactCyan class, with which we can run Simpact Cyan simulations\n",
    "simpact = pysimpactcyan.PySimpactCyan()"
   ]
  },
  {
   "cell_type": "markdown",
   "id": "dcdad78e",
   "metadata": {},
   "source": [
    "In the example from the documentation, survival times of 10 or 50 years are used, depending on treatment. The function below calculates which viral load corresponds to this for a fixed value of $C$ and $k$:\n",
    "$$V_{\\rm sp} = \\left(\\frac{C}{t}\\right)^\\left(-\\frac{1}{k}\\right) $$"
   ]
  },
  {
   "cell_type": "code",
   "execution_count": 5,
   "id": "a013082a",
   "metadata": {
    "collapsed": false,
    "jupyter": {
     "outputs_hidden": false
    }
   },
   "outputs": [],
   "source": [
    "def solveForVsp(t, C, k):\n",
    "    return (float(C)/t)**(-1.0/k)"
   ]
  },
  {
   "cell_type": "markdown",
   "id": "fb361a21",
   "metadata": {},
   "source": [
    "We then set some values for $C$ and $k$, set the time to live before treatment to 10 years, the time to live because of treatment to 50 years, and we calculate the corresponding $V_{\\rm sp}$ values"
   ]
  },
  {
   "cell_type": "code",
   "execution_count": 6,
   "id": "b96c1778",
   "metadata": {
    "collapsed": false,
    "jupyter": {
     "outputs_hidden": false
    }
   },
   "outputs": [],
   "source": [
    "t_before = 10.0\n",
    "t_after = 50.0\n",
    "C = 1000\n",
    "k = -0.5\n",
    "Vsp_before = solveForVsp(t_before, C, k)\n",
    "Vsp_after = solveForVsp(t_after, C, k);"
   ]
  },
  {
   "cell_type": "markdown",
   "id": "d702db3e",
   "metadata": {},
   "source": [
    "Infection only\n",
    "--------------\n",
    "\n",
    "For the first simulation we'll infect a population consisting of a single person\n",
    "when the simulation starts. We'll make sure that treatment is not used, so if\n",
    "everything works correctly, the person should die at a simulation time of 10 years.\n"
   ]
  },
  {
   "cell_type": "code",
   "execution_count": 7,
   "id": "fa30041f",
   "metadata": {
    "collapsed": false,
    "jupyter": {
     "outputs_hidden": false
    }
   },
   "outputs": [],
   "source": [
    "cfg = { \n",
    "    # To focus on the AIDS mortality event we'll just use a population that consists\n",
    "    # of one man\n",
    "    \"population.nummen\": 1,\n",
    "    \"population.numwomen\": 0,\n",
    "    # By default, at the start of the simulation a number of people will be infected\n",
    "    # with HIV. We set the fraction to 100%, so that the only member of our population\n",
    "    # will certainly get infected when the simulation starts.\n",
    "    \"hivseed.fraction\": 1,\n",
    "    # By setting the age scale for the normal (non-AIDS) mortality event to something\n",
    "    # very large and by setting the simulation time to something large as well, we can\n",
    "    # be sure that the simulation will only stop when the one person in it dies from\n",
    "    # AIDS\n",
    "    \"mortality.normal.weibull.scale\": 1000, \n",
    "    \"population.simtime\": 1000,\n",
    "    # Here, we set the values of the C and k parameters that we defined earlier\n",
    "    \"mortality.aids.survtime.C\": C,\n",
    "    \"mortality.aids.survtime.k\": k,\n",
    "    # To make sure that upon infection the person gets the value of Vsp that we want,\n",
    "    # we use the 'usealternativeseeddist' setting which can be used to specify a distribution\n",
    "    # for Vsp that can is used when seeding. This distribution should provide the Vsp value\n",
    "    # on a log10 scale. Since we want one specific value, we'll use the 'fixed' distribution.\n",
    "    \"person.vsp.model.logdist2d.usealternativeseeddist\": \"yes\",\n",
    "    \"person.vsp.model.logdist2d.alternativeseed.dist.type\": \"fixed\",\n",
    "    \"person.vsp.model.logdist2d.alternativeseed.dist.fixed.value\": math.log10(Vsp_before),\n",
    "    \n",
    "    # Because we don't want treatment in this example, we could in principle just give\n",
    "    # the diagnosis event a very low hazard. But to make it easier for the following\n",
    "    # examples we'll actually use a very high hazard for diagnosis so it will happen\n",
    "    # very shortly after infection\n",
    "    \"diagnosis.baseline\": 100,\n",
    "    # To make sure that no treatment is performed, we'll set the threshold for treatment\n",
    "    # to zero\n",
    "    \"monitoring.cd4.threshold\": 0,\n",
    "    # On the other hand, thinking ahead again, when a person does get offered treatment\n",
    "    # we'd like to make sure that he accepts it. This is done by setting the ART\n",
    "    # accept threshold to 100%, using a 'fixed' distribution again.\n",
    "    \"person.art.accept.threshold.dist.type\": \"fixed\",\n",
    "    \"person.art.accept.threshold.dist.fixed.value\": 1,\n",
    "    # Here we set the interval for the monitoring event to one year.\n",
    "    \"monitoring.interval.piecewise.left\": 1,\n",
    "    \"monitoring.interval.piecewise.right\": 1,\n",
    "    \"monitoring.interval.piecewise.cd4s\": 500,\n",
    "    \"monitoring.interval.piecewise.times\": 1,\n",
    "    # When a monitoring event is triggered and the person's CD4 count is below the\n",
    "    # threshold, he will be offered treatment. We've already made sure that the person\n",
    "    # will accept the treatment, and here we specify that treatment should alter the\n",
    "    # Vsp value to Vsp_after. This is not actually used in this first example, but\n",
    "    # will be in the next two.\n",
    "    \"monitoring.fraction.log_viralload\": math.log10(Vsp_after)/math.log10(Vsp_before),\n",
    "    \"vmmc.enabled\": \"no\",\n",
    "    \"EventVMMC.m_vmmcprobDist.dist.type\": \"uniform\",\n",
    "    \"EventVMMC.m_vmmcprobDist.dist.uniform.max\":  1,\n",
    "    \"EventVMMC.m_vmmcprobDist.dist.uniform.min\": 0\n",
    "}\n"
   ]
  },
  {
   "cell_type": "code",
   "execution_count": 8,
   "id": "9a9d99b4",
   "metadata": {
    "collapsed": false,
    "jupyter": {
     "outputs_hidden": false
    }
   },
   "outputs": [
    {
     "name": "stdout",
     "output_type": "stream",
     "text": [
      "Using identifier 'simpact-cyan-2024-05-01-17-01-19_223531_fspaRMzO-'\n",
      "Results will be stored in directory '/tmp/simptest'\n",
      "Running simpact executable 'simpact-cyan-release' ...\n",
      "Done.\n",
      "\n",
      "# read seed from /dev/urandom\n",
      "# Rng engine mt19937\n",
      "# Using seed 211204832\n",
      "# Performing extra check on read configuration parameters\n",
      "# WARNING: ignoring consistency check for config key population.agedistfile (config value is '/home/_delicht/src/who-aids-prop/data/sa_2003.csv')\n",
      "# mNRM: using advanced algorithm\n",
      "# Release version\n",
      "# Simpact version is: 1.0.0\n",
      "# Error running simulation: No next scheduled event found: No event found\n",
      "# Current simulation time is 10\n",
      "# Number of events executed is 17\n",
      "# Started with 1 people, ending with 0 (difference is -1)\n"
     ]
    },
    {
     "data": {
      "text/plain": [
       "{'logevents': '/tmp/simptest/simpact-cyan-2024-05-01-17-01-19_223531_fspaRMzO-eventlog.csv',\n",
       " 'logpersons': '/tmp/simptest/simpact-cyan-2024-05-01-17-01-19_223531_fspaRMzO-personlog.csv',\n",
       " 'logrelations': '/tmp/simptest/simpact-cyan-2024-05-01-17-01-19_223531_fspaRMzO-relationlog.csv',\n",
       " 'logtreatments': '/tmp/simptest/simpact-cyan-2024-05-01-17-01-19_223531_fspaRMzO-treatmentlog.csv',\n",
       " 'logsettings': '/tmp/simptest/simpact-cyan-2024-05-01-17-01-19_223531_fspaRMzO-settingslog.csv',\n",
       " 'loglocation': '/tmp/simptest/simpact-cyan-2024-05-01-17-01-19_223531_fspaRMzO-locationlog.csv',\n",
       " 'logviralloadhiv': '/tmp/simptest/simpact-cyan-2024-05-01-17-01-19_223531_fspaRMzO-hivviralloadlog.csv',\n",
       " 'configfile': '/tmp/simptest/simpact-cyan-2024-05-01-17-01-19_223531_fspaRMzO-config.txt',\n",
       " 'outputfile': '/tmp/simptest/simpact-cyan-2024-05-01-17-01-19_223531_fspaRMzO-output.txt',\n",
       " 'id': 'simpact-cyan-2024-05-01-17-01-19_223531_fspaRMzO-',\n",
       " 'agedistfile': '/home/_delicht/src/who-aids-prop/data/sa_2003.csv',\n",
       " 'simulationtime': 10.0,\n",
       " 'eventsexecuted': 17}"
      ]
     },
     "execution_count": 8,
     "metadata": {},
     "output_type": "execute_result"
    }
   ],
   "source": [
    "# Now we'll execute the Simpact Cyan simulation with these settings. The `run` function returns\n",
    "# an object which contains paths to the output files.\n",
    "r = simpact.run(cfg, \"/tmp/simptest\")\n",
    "r"
   ]
  },
  {
   "cell_type": "code",
   "execution_count": 9,
   "id": "a2800229",
   "metadata": {
    "collapsed": false,
    "jupyter": {
     "outputs_hidden": false
    }
   },
   "outputs": [
    {
     "name": "stdout",
     "output_type": "stream",
     "text": [
      "0.0000000000,HIV seeding,(none),-1,-1,-1.0000000000,(none),-1,-1,-1.0000000000\n",
      "0.0000000000,diagnosis,man_1,1,0,13.7449714707,(none),-1,-1,-1.0000000000\n",
      "0.0000853700,monitoring,man_1,1,0,13.7450568407,(none),-1,-1,-1.0000000000,CD4,990.416\n",
      "0.2508866069,chronicstage,man_1,1,0,13.9958580775,(none),-1,-1,-1.0000000000\n",
      "1.0000853700,monitoring,man_1,1,0,14.7450568407,(none),-1,-1,-1.0000000000,CD4,891.719\n",
      "1.2550285293,debut,man_1,1,0,15.0000000000,(none),-1,-1,-1.0000000000\n",
      "2.0000853700,monitoring,man_1,1,0,15.7450568407,(none),-1,-1,-1.0000000000,CD4,793.022\n",
      "3.0000853700,monitoring,man_1,1,0,16.7450568407,(none),-1,-1,-1.0000000000,CD4,694.324\n",
      "4.0000853700,monitoring,man_1,1,0,17.7450568407,(none),-1,-1,-1.0000000000,CD4,595.627\n",
      "5.0000853700,monitoring,man_1,1,0,18.7450568407,(none),-1,-1,-1.0000000000,CD4,496.93\n",
      "6.0000853700,monitoring,man_1,1,0,19.7450568407,(none),-1,-1,-1.0000000000,CD4,398.232\n",
      "7.0000853700,monitoring,man_1,1,0,20.7450568407,(none),-1,-1,-1.0000000000,CD4,299.535\n",
      "8.0000853700,monitoring,man_1,1,0,21.7450568407,(none),-1,-1,-1.0000000000,CD4,200.837\n",
      "8.7500000000,aidsstage,man_1,1,0,22.4949714707,(none),-1,-1,-1.0000000000\n",
      "9.0000853700,monitoring,man_1,1,0,22.7450568407,(none),-1,-1,-1.0000000000,CD4,102.14\n",
      "9.5000000000,finalaidsstage,man_1,1,0,23.2449714707,(none),-1,-1,-1.0000000000\n",
      "10.0000000000,aidsmortality,man_1,1,0,23.7449714707,(none),-1,-1,-1.0000000000,intreatment,0\n",
      "\n"
     ]
    }
   ],
   "source": [
    "# We'll display the log of all events which is stored in the file specified by `logevents`.\n",
    "print(open(r[\"logevents\"]).read())"
   ]
  },
  {
   "cell_type": "markdown",
   "id": "bf4bff8b",
   "metadata": {},
   "source": [
    "Each line starts with the time an event took place, followed by the name of the event and\n",
    "some additional information. An overview:\n",
    "\n",
    " - At the start of the simulation, the HIV seeding event is executed which causes the only\n",
    "   person in the population to get infected.\n",
    " - Because of the high baseline value for the diagnosis hazard, this man will get diagnosed\n",
    "   immediately afterwards. At this point, a monitoring event is also scheduled a very short\n",
    "   time later.\n",
    " - When the monitoring event is triggered, no treatment will be offered because we set the\n",
    "   CD4 threshold to a very low value. But we keep track of the disease progression by\n",
    "   scheduling monitoring events on a yearly basis.\n",
    " - Slightly later than three months after the infection (some randomness is added), the\n",
    "   chronic stage event will take place.\n",
    " - One year and three months before the AIDS based time of death, the person advances to\n",
    "   the AIDS stage, and six months before the AIDS related death to the final AIDS stage.\n",
    " - Finally, 10 years after the infection was started, the person dies from AIDS"
   ]
  },
  {
   "cell_type": "markdown",
   "id": "7c5f82d6",
   "metadata": {},
   "source": [
    "Treatment\n",
    "---------\n",
    "\n",
    "In the second example, we'll make sure the person is treated after one year. To do so,\n",
    "we make use of the simulation intervention, by which we can change parameters of the\n",
    "previous simulation at certain times.\n",
    "\n",
    "In the previous simulation, no treatment occurred because the CD4 threshold was set to zero.\n",
    "To make sure that the person will get treated during the monitoring event that occurs \n",
    "after the first simulation year has passed, we'll trigger a simulation intervention just\n",
    "before that time and set the CD4 threshold to a very high value (so the person's CD4 will\n",
    "be below that value)"
   ]
  },
  {
   "cell_type": "code",
   "execution_count": 10,
   "id": "6a3e5ca9",
   "metadata": {
    "collapsed": false,
    "jupyter": {
     "outputs_hidden": false
    }
   },
   "outputs": [
    {
     "name": "stdout",
     "output_type": "stream",
     "text": [
      "Using identifier 'simpact-cyan-2024-05-01-17-01-23_223531_ksN3KwW5-'\n",
      "Results will be stored in directory '/tmp/simptest'\n",
      "Running simpact executable 'simpact-cyan-release' ...\n",
      "Done.\n",
      "\n",
      "# read seed from /dev/urandom\n",
      "# Rng engine mt19937\n",
      "# Using seed 1917390844\n",
      "# Performing extra check on read configuration parameters\n",
      "# WARNING: ignoring consistency check for config key intervention.baseconfigname (config value is 'simpact-cyan-2024-05-01-17-01-23_223531_ksN3KwW5-interventionconfig_%.txt')\n",
      "# WARNING: ignoring consistency check for config key intervention.fileids (config value is '1')\n",
      "# WARNING: ignoring consistency check for config key population.agedistfile (config value is '/home/_delicht/src/who-aids-prop/data/sa_2003.csv')\n",
      "# mNRM: using advanced algorithm\n",
      "# Release version\n",
      "# Simpact version is: 1.0.0\n",
      "# Error running simulation: No next scheduled event found: No event found\n",
      "# Current simulation time is 45.9996\n",
      "# Number of events executed is 9\n",
      "# Started with 1 people, ending with 0 (difference is -1)\n"
     ]
    }
   ],
   "source": [
    "intCfg = {\n",
    "    # This change in configuration will take place one year into the simulation\n",
    "    \"time\": 0.99, \n",
    "    # At that time the CD4 threshold is set to a very large value, so that during\n",
    "    # the next monitoring event the person will receive treatment\n",
    "    \"monitoring.cd4.threshold\": 100000,\n",
    "    # We're not interested in any more monitoring events, so we'll set the interval\n",
    "    # to 1000 years\n",
    "    \"monitoring.interval.piecewise.left\": 1000,\n",
    "    \"monitoring.interval.piecewise.right\": 1000,\n",
    "    \"monitoring.interval.piecewise.times\": 1000,\n",
    "    # In this example we do not want the person to drop out of treatment, so the\n",
    "    # dropout interval is set to the fixed value of 1000 years\n",
    "    \"dropout.interval.dist.type\": \"fixed\",\n",
    "    \"dropout.interval.dist.fixed.value\": 1000,\n",
    "}\n",
    "\n",
    "# Then we run the simulation with the existing configuration and with the intervention\n",
    "# configuration above\n",
    "r = simpact.run(cfg, \"/tmp/simptest\", interventionConfig=[intCfg])"
   ]
  },
  {
   "cell_type": "code",
   "execution_count": 12,
   "id": "0eb79fcf",
   "metadata": {
    "collapsed": false,
    "jupyter": {
     "outputs_hidden": false
    }
   },
   "outputs": [
    {
     "name": "stdout",
     "output_type": "stream",
     "text": [
      "0.0000000000,HIV seeding,(none),-1,-1,-1.0000000000,(none),-1,-1,-1.0000000000\n",
      "0.0000000000,diagnosis,man_1,1,0,59.3925284531,(none),-1,-1,-1.0000000000\n",
      "0.0001067150,monitoring,man_1,1,0,59.3926351681,(none),-1,-1,-1.0000000000,CD4,997.434\n",
      "0.2516475892,chronicstage,man_1,1,0,59.6441760423,(none),-1,-1,-1.0000000000\n",
      "0.9900000000,intervention,(none),-1,-1,-1.0000000000,(none),-1,-1,-1.0000000000\n",
      "1.0001067150,monitoring,man_1,1,0,60.3926351681,(none),-1,-1,-1.0000000000,CD4,901.236\n",
      "1.0001067150,(treatment),man_1,1,0,60.3926351681,(none),-1,-1,-1.0000000000\n",
      "44.7495731399,aidsstage,man_1,1,0,104.1421015929,(none),-1,-1,-1.0000000000\n",
      "45.4995731399,finalaidsstage,man_1,1,0,104.8921015929,(none),-1,-1,-1.0000000000\n",
      "45.9995731399,aidsmortality,man_1,1,0,105.3921015929,(none),-1,-1,-1.0000000000,intreatment,1\n",
      "\n"
     ]
    }
   ],
   "source": [
    "# Let's show the event log again\n",
    "print(open(r[\"logevents\"]).read())"
   ]
  },
  {
   "cell_type": "markdown",
   "id": "29c668bf",
   "metadata": {},
   "source": [
    "When the monitoring event is triggered at the simulation time of one year, the CD4 count is now\n",
    "below the (very high) threshold that we installed in the simulation intervention that happened\n",
    "right before. This causes the man to receive treatment, which in turn lowers his Vsp value.\n",
    "\n",
    "As you can see, because of this the man now continues to live for 45 more years. Also note that\n",
    "again one year and three months before dying, the AIDS stage event is triggered, and six months\n",
    "before dying, the final AIDS stage."
   ]
  },
  {
   "cell_type": "markdown",
   "id": "3a644a5b",
   "metadata": {},
   "source": [
    "Treatment and dropout\n",
    "---------------------\n",
    "This final simulation corresponds to the example that was given in the documentation.\n",
    "As in the previous one, the person will get treated after one year, but now he will\n",
    "drop out of treatment ten years later again."
   ]
  },
  {
   "cell_type": "code",
   "execution_count": 14,
   "id": "2708713f",
   "metadata": {
    "collapsed": false,
    "jupyter": {
     "outputs_hidden": false
    }
   },
   "outputs": [
    {
     "name": "stdout",
     "output_type": "stream",
     "text": [
      "Using identifier 'simpact-cyan-2024-05-01-17-01-45_223531_RdLpByOb-'\n",
      "Results will be stored in directory '/tmp/simptest'\n",
      "Running simpact executable 'simpact-cyan-release' ...\n",
      "Done.\n",
      "\n",
      "# read seed from /dev/urandom\n",
      "# Rng engine mt19937\n",
      "# Using seed 1136225407\n",
      "# Performing extra check on read configuration parameters\n",
      "# WARNING: ignoring consistency check for config key intervention.baseconfigname (config value is 'simpact-cyan-2024-05-01-17-01-45_223531_RdLpByOb-interventionconfig_%.txt')\n",
      "# WARNING: ignoring consistency check for config key intervention.fileids (config value is '1')\n",
      "# WARNING: ignoring consistency check for config key population.agedistfile (config value is '/home/_delicht/src/who-aids-prop/data/sa_2003.csv')\n",
      "# mNRM: using advanced algorithm\n",
      "# Release version\n",
      "# Simpact version is: 1.0.0\n",
      "# Error running simulation: No next scheduled event found: No event found\n",
      "# Current simulation time is 18\n",
      "# Number of events executed is 11\n",
      "# Started with 1 people, ending with 0 (difference is -1)\n"
     ]
    }
   ],
   "source": [
    "intCfg = { \n",
    "    # This change in configuration will take place one year into the simulation\n",
    "    \"time\": 0.99,\n",
    "    # At that time the CD4 threshold is set to a very large value, so that during\n",
    "    # the next monitoring event the person will receive treatment\n",
    "    \"monitoring.cd4.threshold\": 100000,\n",
    "    # To make sure that the person drops out of treatment 10 years later, we \n",
    "    # fix this value\n",
    "    \"dropout.interval.dist.type\": \"fixed\",\n",
    "    \"dropout.interval.dist.fixed.value\": 10,\n",
    "    # To prevent a person from being re-diagnoses after dropout, we'll set the\n",
    "    # baselline value for this hazard to a very negative value (causes a very low\n",
    "    # hazard)\n",
    "    \"diagnosis.baseline\": -100,\n",
    "    # We're not interested in any more monitoring events, so we'll set the interval\n",
    "    # to 1000 years\n",
    "    \"monitoring.interval.piecewise.left\": 1000,\n",
    "    \"monitoring.interval.piecewise.right\": 1000,\n",
    "    \"monitoring.interval.piecewise.times\": 1000,\n",
    "}\n",
    "\n",
    "r = simpact.run(cfg, \"/tmp/simptest\", interventionConfig=[intCfg])"
   ]
  },
  {
   "cell_type": "code",
   "execution_count": 16,
   "id": "80bca813",
   "metadata": {
    "collapsed": false,
    "jupyter": {
     "outputs_hidden": false
    }
   },
   "outputs": [
    {
     "name": "stdout",
     "output_type": "stream",
     "text": [
      "0.0000000000,HIV seeding,(none),-1,-1,-1.0000000000,(none),-1,-1,-1.0000000000\n",
      "0.0000000000,diagnosis,man_1,1,0,11.8387075042,(none),-1,-1,-1.0000000000\n",
      "0.0000396466,monitoring,man_1,1,0,11.8387471508,(none),-1,-1,-1.0000000000,CD4,915.41\n",
      "0.2501606690,chronicstage,man_1,1,0,12.0888681732,(none),-1,-1,-1.0000000000\n",
      "0.9900000000,intervention,(none),-1,-1,-1.0000000000,(none),-1,-1,-1.0000000000\n",
      "1.0000396466,monitoring,man_1,1,0,12.8387471508,(none),-1,-1,-1.0000000000,CD4,832.724\n",
      "1.0000396466,(treatment),man_1,1,0,12.8387471508,(none),-1,-1,-1.0000000000\n",
      "3.1612924958,debut,man_1,1,0,15.0000000000,(none),-1,-1,-1.0000000000\n",
      "11.0000396466,dropout,man_1,1,0,22.8387471508,(none),-1,-1,-1.0000000000\n",
      "16.7500000000,aidsstage,man_1,1,0,28.5887075042,(none),-1,-1,-1.0000000000\n",
      "17.5000000000,finalaidsstage,man_1,1,0,29.3387075042,(none),-1,-1,-1.0000000000\n",
      "18.0000000000,aidsmortality,man_1,1,0,29.8387075042,(none),-1,-1,-1.0000000000,intreatment,0\n",
      "\n"
     ]
    }
   ],
   "source": [
    "# Let's show the event log again\n",
    "print(open(r[\"logevents\"]).read())"
   ]
  },
  {
   "cell_type": "markdown",
   "id": "a23d7ea2",
   "metadata": {},
   "source": [
    "The start of the simulation is the same as before and one year after getting infected,\n",
    "the man receives treatment. But now, ten years after that time, the man decides to\n",
    "drop out of treatment which causes his $V_{\\rm sp}$ value to go up again. Instead of\n",
    "living for tens of years afterwards, after dropping out only seven more years remain\n",
    "until the person dies of AIDS."
   ]
  }
 ],
 "metadata": {
  "kernelspec": {
   "display_name": "Python 3 (ipykernel)",
   "language": "python",
   "name": "python3"
  },
  "language_info": {
   "codemirror_mode": {
    "name": "ipython",
    "version": 3
   },
   "file_extension": ".py",
   "mimetype": "text/x-python",
   "name": "python",
   "nbconvert_exporter": "python",
   "pygments_lexer": "ipython3",
   "version": "3.12.3"
  }
 },
 "nbformat": 4,
 "nbformat_minor": 5
}
