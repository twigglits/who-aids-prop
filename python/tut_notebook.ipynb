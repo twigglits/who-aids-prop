{
 "cells": [
  {
   "cell_type": "code",
   "execution_count": 1,
   "id": "38c6da1c-d41e-4567-85fa-2992fa15c0c2",
   "metadata": {
    "tags": []
   },
   "outputs": [],
   "source": [
    "import pysimpactcyan\n",
    "import sys"
   ]
  },
  {
   "cell_type": "code",
   "execution_count": 8,
   "id": "8f247e8b-0a6e-4913-afc3-37ae606f6231",
   "metadata": {
    "tags": []
   },
   "outputs": [
    {
     "name": "stdout",
     "output_type": "stream",
     "text": [
      "Setting data directory to /usr/share/simpact-cyan/\n",
      "Using identifier 'simpact-cyan-2024-04-12-11-55-52_10851_SGdHH8NS-'\n",
      "Results will be stored in directory '/tmp/simpacttest'\n",
      "Running simpact executable 'simpact-cyan-release' ...\n",
      "Done.\n",
      "\n",
      "# read seed from /dev/urandom\n",
      "# Rng engine mt19937\n",
      "# Using seed 1205826609\n",
      "# Performing extra check on read configuration parameters\n",
      "# WARNING: ignoring consistency check for config key population.agedistfile (config value is '/usr/share/simpact-cyan/sa_2003.csv')\n",
      "# mNRM: using advanced algorithm\n",
      "# Release version\n",
      "# Simpact version is: 1.0.0\n",
      "# Current simulation time is 15.0133\n",
      "# Number of events executed is 3101\n",
      "# Started with 200 people, ending with 209 (difference is 9)\n",
      "Using identifier 'simpact-cyan-2024-04-12-11-55-53_10851_X5pAqvti-'\n",
      "Results will be stored in directory '/tmp/simpacttest'\n",
      "Running simpact executable 'simpact-cyan-release' ...\n",
      "Done.\n",
      "\n",
      "# read seed from /dev/urandom\n",
      "# Rng engine mt19937\n",
      "# Using seed 1764298563\n",
      "# Performing extra check on read configuration parameters\n",
      "# WARNING: ignoring consistency check for config key intervention.baseconfigname (config value is 'simpact-cyan-2024-04-12-11-55-53_10851_X5pAqvti-interventionconfig_%.txt')\n",
      "# WARNING: ignoring consistency check for config key intervention.fileids (config value is '1,2')\n",
      "# WARNING: ignoring consistency check for config key population.agedistfile (config value is '/usr/share/simpact-cyan/sa_2003.csv')\n",
      "# mNRM: using advanced algorithm\n",
      "# Release version\n",
      "# Simpact version is: 1.0.0\n",
      "# Current simulation time is 15.0064\n",
      "# Number of events executed is 2515\n",
      "# Started with 200 people, ending with 189 (difference is -11)\n"
     ]
    }
   ],
   "source": [
    "simpact = pysimpactcyan.PySimpactCyan()\n",
    "\n",
    "myMatrix = [[1, 3], [2, 4]]\n",
    "data = {}\n",
    "data[\"csvMatrix\"] = myMatrix\n",
    "\n",
    "cfg = {}\n",
    "cfg[\"person.geo.dist2d.type\"] = \"discrete\"\n",
    "cfg[\"person.geo.dist2d.discrete.densfile\"] = \"data:csvMatrix\"\n",
    "\n",
    "iv1 = { }\n",
    "iv1[\"time\"] = 5\n",
    "iv1[\"monitoring.cd4.threshold\"] = 500\n",
    "\n",
    "iv2 = { }\n",
    "iv2[\"time\"] = 10\n",
    "iv2[\"monitoring.cd4.threshold\"] = 1000\n",
    "\n",
    "iv = [iv1, iv2]\n",
    "\n",
    "simpact.run(cfg, \"/tmp/simpacttest\", dataFiles=data)\n",
    "res = simpact.run(cfg, \"/tmp/simpacttest\", interventionConfig=iv, dataFiles=data)"
   ]
  },
  {
   "cell_type": "code",
   "execution_count": null,
   "id": "2e08d209",
   "metadata": {},
   "outputs": [],
   "source": []
  }
 ],
 "metadata": {
  "environment": {
   "kernel": "python3",
   "name": "common-cpu.m116",
   "type": "gcloud",
   "uri": "gcr.io/deeplearning-platform-release/base-cpu:m116"
  },
  "kernelspec": {
   "display_name": "Python 3",
   "language": "python",
   "name": "python3"
  },
  "language_info": {
   "codemirror_mode": {
    "name": "ipython",
    "version": 3
   },
   "file_extension": ".py",
   "mimetype": "text/x-python",
   "name": "python",
   "nbconvert_exporter": "python",
   "pygments_lexer": "ipython3",
   "version": "3.10.12"
  }
 },
 "nbformat": 4,
 "nbformat_minor": 5
}
