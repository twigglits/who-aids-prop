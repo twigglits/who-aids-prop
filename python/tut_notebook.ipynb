{
 "cells": [
  {
   "cell_type": "code",
   "execution_count": 1,
   "id": "38c6da1c-d41e-4567-85fa-2992fa15c0c2",
   "metadata": {
    "tags": []
   },
   "outputs": [],
   "source": [
    "import pysimpactcyan\n",
    "import sys"
   ]
  },
  {
   "cell_type": "code",
   "execution_count": 2,
   "id": "8f247e8b-0a6e-4913-afc3-37ae606f6231",
   "metadata": {
    "tags": []
   },
   "outputs": [
    {
     "name": "stdout",
     "output_type": "stream",
     "text": [
      "Setting data directory to /usr/share/simpact-cyan/\n",
      "Using identifier 'simpact-cyan-2024-03-12-14-04-51_90379_idIDn5x3-'\n",
      "Results will be stored in directory '/tmp/simpacttest'\n",
      "Running simpact executable 'simpact-cyan-release' ...\n"
     ]
    },
    {
     "name": "stdout",
     "output_type": "stream",
     "text": [
      "Done.\n",
      "\n",
      "# read seed from /dev/urandom\n",
      "# Rng engine mt19937\n",
      "# Using seed 1689992081\n",
      "# Performing extra check on read configuration parameters\n",
      "# WARNING: ignoring consistency check for config key population.agedistfile (config value is '/usr/share/simpact-cyan/sa_2003.csv')\n",
      "# mNRM: using advanced algorithm\n",
      "# Release version\n",
      "# Simpact version is: 1.0.0\n",
      "# Current simulation time is 15.0078\n",
      "# Number of events executed is 3087\n",
      "# Started with 200 people, ending with 181 (difference is -19)\n"
     ]
    },
    {
     "data": {
      "text/plain": [
       "{'logevents': '/tmp/simpacttest/simpact-cyan-2024-03-12-14-04-51_90379_idIDn5x3-eventlog.csv',\n",
       " 'logpersons': '/tmp/simpacttest/simpact-cyan-2024-03-12-14-04-51_90379_idIDn5x3-personlog.csv',\n",
       " 'logrelations': '/tmp/simpacttest/simpact-cyan-2024-03-12-14-04-51_90379_idIDn5x3-relationlog.csv',\n",
       " 'logtreatments': '/tmp/simpacttest/simpact-cyan-2024-03-12-14-04-51_90379_idIDn5x3-treatmentlog.csv',\n",
       " 'logsettings': '/tmp/simpacttest/simpact-cyan-2024-03-12-14-04-51_90379_idIDn5x3-settingslog.csv',\n",
       " 'loglocation': '/tmp/simpacttest/simpact-cyan-2024-03-12-14-04-51_90379_idIDn5x3-locationlog.csv',\n",
       " 'logviralloadhiv': '/tmp/simpacttest/simpact-cyan-2024-03-12-14-04-51_90379_idIDn5x3-hivviralloadlog.csv',\n",
       " 'data:csvMatrix': '/tmp/simpacttest/simpact-cyan-2024-03-12-14-04-51_90379_idIDn5x3-data-csvMatrix.csv',\n",
       " 'configfile': '/tmp/simpacttest/simpact-cyan-2024-03-12-14-04-51_90379_idIDn5x3-config.txt',\n",
       " 'outputfile': '/tmp/simpacttest/simpact-cyan-2024-03-12-14-04-51_90379_idIDn5x3-output.txt',\n",
       " 'id': 'simpact-cyan-2024-03-12-14-04-51_90379_idIDn5x3-',\n",
       " 'agedistfile': '/usr/share/simpact-cyan/sa_2003.csv',\n",
       " 'simulationtime': 15.0078,\n",
       " 'eventsexecuted': 3087}"
      ]
     },
     "execution_count": 2,
     "metadata": {},
     "output_type": "execute_result"
    }
   ],
   "source": [
    "simpact = pysimpactcyan.PySimpactCyan()\n",
    "\n",
    "myMatrix = [[1, 3], [2, 4]]\n",
    "data = {}\n",
    "data[\"csvMatrix\"] = myMatrix\n",
    "\n",
    "cfg = {}\n",
    "cfg[\"person.geo.dist2d.type\"] = \"discrete\"\n",
    "cfg[\"person.geo.dist2d.discrete.densfile\"] = \"data:csvMatrix\"\n",
    "\n",
    "cfg[\"\"]]\n",
    "\n",
    "# Run PySimpactCyan\n",
    "simpact.run(cfg, \"/tmp/simpacttest\", dataFiles=data)"
   ]
  },
  {
   "cell_type": "code",
   "execution_count": null,
   "id": "878cf489",
   "metadata": {},
   "outputs": [],
   "source": []
  }
 ],
 "metadata": {
  "environment": {
   "kernel": "python3",
   "name": "common-cpu.m116",
   "type": "gcloud",
   "uri": "gcr.io/deeplearning-platform-release/base-cpu:m116"
  },
  "kernelspec": {
   "display_name": "Python 3",
   "language": "python",
   "name": "python3"
  },
  "language_info": {
   "codemirror_mode": {
    "name": "ipython",
    "version": 3
   },
   "file_extension": ".py",
   "mimetype": "text/x-python",
   "name": "python",
   "nbconvert_exporter": "python",
   "pygments_lexer": "ipython3",
   "version": "3.10.12"
  }
 },
 "nbformat": 4,
 "nbformat_minor": 5
}
